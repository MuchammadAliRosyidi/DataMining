{
  "nbformat": 4,
  "nbformat_minor": 0,
  "metadata": {
    "colab": {
      "provenance": [],
      "authorship_tag": "ABX9TyNMKteStsXtrDMB9rcLKn9u",
      "include_colab_link": true
    },
    "kernelspec": {
      "name": "python3",
      "display_name": "Python 3"
    },
    "language_info": {
      "name": "python"
    }
  },
  "cells": [
    {
      "cell_type": "markdown",
      "metadata": {
        "id": "view-in-github",
        "colab_type": "text"
      },
      "source": [
        "<a href=\"https://colab.research.google.com/github/MuchammadAliRosyidi/DataMining/blob/main/Preprocessing.ipynb\" target=\"_parent\"><img src=\"https://colab.research.google.com/assets/colab-badge.svg\" alt=\"Open In Colab\"/></a>"
      ]
    },
    {
      "cell_type": "code",
      "execution_count": null,
      "metadata": {
        "id": "IN2SrJ6Buk-K"
      },
      "outputs": [],
      "source": [
        "import numpy as np\n",
        "import matplotlib.pyplot as plt\n",
        "import pandas as pd"
      ]
    },
    {
      "cell_type": "code",
      "source": [
        "try:\n",
        "    dataset = pd.read_csv('Data1.csv', delimiter=';')\n",
        "    print(\"Dataset berhasil dibaca!\")\n",
        "except Exception as e:\n",
        "    print(f\"Terjadi kesalahan: {e}\")"
      ],
      "metadata": {
        "colab": {
          "base_uri": "https://localhost:8080/"
        },
        "id": "hXsZUcT0w4ge",
        "outputId": "9df5b3c6-fc7d-4c6b-eb83-51c298dec5ca"
      },
      "execution_count": null,
      "outputs": [
        {
          "output_type": "stream",
          "name": "stdout",
          "text": [
            "Dataset berhasil dibaca!\n"
          ]
        }
      ]
    },
    {
      "cell_type": "code",
      "source": [
        "print(dataset)"
      ],
      "metadata": {
        "colab": {
          "base_uri": "https://localhost:8080/"
        },
        "id": "dTpsm4f_xcBC",
        "outputId": "3b83e927-8f86-4c45-f754-97263e05b55a"
      },
      "execution_count": null,
      "outputs": [
        {
          "output_type": "stream",
          "name": "stdout",
          "text": [
            "     Country   Age   Salary Purchased\n",
            "0     France  44.0  72000.0        No\n",
            "1  Indonesia  27.0  48000.0       Yes\n",
            "2    Germany  30.0  54000.0        No\n",
            "3      Spain  38.0  61000.0        No\n",
            "4    Germany  40.0      NaN       Yes\n",
            "5     France  40.0  58000.0       Yes\n",
            "6      Spain   NaN  52000.0        No\n",
            "7     France  48.0  79000.0       Yes\n",
            "8  Indonesia  50.0  83000.0        No\n",
            "9     France  37.0  67000.0       Yes\n"
          ]
        }
      ]
    },
    {
      "cell_type": "code",
      "source": [
        "print(\"Shape dari dataset:\", dataset.shape)\n",
        "\n",
        "# Lihat kolom-kolom yang terbaca\n",
        "print(\"Kolom-kolom dataset:\", dataset.columns)\n",
        "\n",
        "# Sekarang coba pecah x dan y\n",
        "x = dataset.iloc[:, :-1].values\n",
        "y = dataset.iloc[:, -1].values\n",
        "\n",
        "print(\"Fitur (x):\", x)\n",
        "print(\"Target (y):\", y)"
      ],
      "metadata": {
        "colab": {
          "base_uri": "https://localhost:8080/"
        },
        "id": "xzMAFHZH5Eu3",
        "outputId": "b420916c-ed8e-416c-df77-49bec18002e7"
      },
      "execution_count": null,
      "outputs": [
        {
          "output_type": "stream",
          "name": "stdout",
          "text": [
            "Shape dari dataset: (10, 4)\n",
            "Kolom-kolom dataset: Index(['Country', 'Age', 'Salary', 'Purchased'], dtype='object')\n",
            "Fitur (x): [['France' 44.0 72000.0]\n",
            " ['Indonesia' 27.0 48000.0]\n",
            " ['Germany' 30.0 54000.0]\n",
            " ['Spain' 38.0 61000.0]\n",
            " ['Germany' 40.0 nan]\n",
            " ['France' 40.0 58000.0]\n",
            " ['Spain' nan 52000.0]\n",
            " ['France' 48.0 79000.0]\n",
            " ['Indonesia' 50.0 83000.0]\n",
            " ['France' 37.0 67000.0]]\n",
            "Target (y): ['No' 'Yes' 'No' 'No' 'Yes' 'Yes' 'No' 'Yes' 'No' 'Yes']\n"
          ]
        }
      ]
    },
    {
      "cell_type": "code",
      "source": [
        "from sklearn.impute import SimpleImputer\n",
        "imputer = SimpleImputer(missing_values=np.nan, strategy='mean')\n",
        "imputer.fit(x[:, 1:3])\n",
        "x[:, 1:3] = imputer.transform(x[:, 1:3])"
      ],
      "metadata": {
        "id": "p3Rv7aul5iBe"
      },
      "execution_count": null,
      "outputs": []
    },
    {
      "cell_type": "code",
      "source": [
        "print(x)"
      ],
      "metadata": {
        "colab": {
          "base_uri": "https://localhost:8080/"
        },
        "id": "EScgA68S55TH",
        "outputId": "1086d2d7-a521-4064-c4d3-5fb2b78032ff"
      },
      "execution_count": null,
      "outputs": [
        {
          "output_type": "stream",
          "name": "stdout",
          "text": [
            "[['France' 44.0 72000.0]\n",
            " ['Indonesia' 27.0 48000.0]\n",
            " ['Germany' 30.0 54000.0]\n",
            " ['Spain' 38.0 61000.0]\n",
            " ['Germany' 40.0 63777.77777777778]\n",
            " ['France' 40.0 58000.0]\n",
            " ['Spain' 39.333333333333336 52000.0]\n",
            " ['France' 48.0 79000.0]\n",
            " ['Indonesia' 50.0 83000.0]\n",
            " ['France' 37.0 67000.0]]\n"
          ]
        }
      ]
    },
    {
      "cell_type": "code",
      "source": [
        "from sklearn.compose import ColumnTransformer\n",
        "from sklearn.preprocessing import OneHotEncoder\n",
        "ct = ColumnTransformer(transformers=[('encoder', OneHotEncoder(), [0])], remainder='passthrough')\n",
        "x = np.array(ct.fit_transform(x))"
      ],
      "metadata": {
        "id": "AdOhivYQ6Fpz"
      },
      "execution_count": null,
      "outputs": []
    },
    {
      "cell_type": "code",
      "source": [
        "print(x)"
      ],
      "metadata": {
        "colab": {
          "base_uri": "https://localhost:8080/"
        },
        "id": "tQWo1lNJ6VmR",
        "outputId": "91e596f2-e1e8-47ae-d053-86a78bd35101"
      },
      "execution_count": null,
      "outputs": [
        {
          "output_type": "stream",
          "name": "stdout",
          "text": [
            "[[1.0 0.0 0.0 0.0 44.0 72000.0]\n",
            " [0.0 0.0 1.0 0.0 27.0 48000.0]\n",
            " [0.0 1.0 0.0 0.0 30.0 54000.0]\n",
            " [0.0 0.0 0.0 1.0 38.0 61000.0]\n",
            " [0.0 1.0 0.0 0.0 40.0 63777.77777777778]\n",
            " [1.0 0.0 0.0 0.0 40.0 58000.0]\n",
            " [0.0 0.0 0.0 1.0 39.333333333333336 52000.0]\n",
            " [1.0 0.0 0.0 0.0 48.0 79000.0]\n",
            " [0.0 0.0 1.0 0.0 50.0 83000.0]\n",
            " [1.0 0.0 0.0 0.0 37.0 67000.0]]\n"
          ]
        }
      ]
    },
    {
      "cell_type": "code",
      "source": [
        "from sklearn.preprocessing import LabelEncoder\n",
        "le = LabelEncoder()\n",
        "y = le.fit_transform(y)"
      ],
      "metadata": {
        "id": "nJz-yd5F6aia"
      },
      "execution_count": null,
      "outputs": []
    },
    {
      "cell_type": "code",
      "source": [
        "print(y)"
      ],
      "metadata": {
        "colab": {
          "base_uri": "https://localhost:8080/"
        },
        "id": "uQ1WCbiD6jjV",
        "outputId": "494b5def-1665-4ef4-f2db-8ad66628fcaf"
      },
      "execution_count": null,
      "outputs": [
        {
          "output_type": "stream",
          "name": "stdout",
          "text": [
            "[0 1 0 0 1 1 0 1 0 1]\n"
          ]
        }
      ]
    },
    {
      "cell_type": "code",
      "source": [
        "from sklearn.model_selection import train_test_split\n",
        "x_train, x_test, y_train, y_test = train_test_split(x, y, test_size = 0.2, random_state = 1)"
      ],
      "metadata": {
        "id": "0Nf2Yr0J7U8I"
      },
      "execution_count": null,
      "outputs": []
    },
    {
      "cell_type": "code",
      "source": [
        "print(x_train)"
      ],
      "metadata": {
        "colab": {
          "base_uri": "https://localhost:8080/"
        },
        "id": "B5e4HUDl7dC_",
        "outputId": "48da3e86-6e17-407c-b2e2-d1f9d7cbfb3a"
      },
      "execution_count": null,
      "outputs": [
        {
          "output_type": "stream",
          "name": "stdout",
          "text": [
            "[[0.0 0.0 0.0 1.0 39.333333333333336 52000.0]\n",
            " [0.0 1.0 0.0 0.0 40.0 63777.77777777778]\n",
            " [1.0 0.0 0.0 0.0 44.0 72000.0]\n",
            " [0.0 0.0 0.0 1.0 38.0 61000.0]\n",
            " [0.0 0.0 1.0 0.0 27.0 48000.0]\n",
            " [1.0 0.0 0.0 0.0 48.0 79000.0]\n",
            " [0.0 0.0 1.0 0.0 50.0 83000.0]\n",
            " [1.0 0.0 0.0 0.0 40.0 58000.0]]\n"
          ]
        }
      ]
    },
    {
      "cell_type": "code",
      "source": [
        "print(x_test)"
      ],
      "metadata": {
        "colab": {
          "base_uri": "https://localhost:8080/"
        },
        "id": "_2lKeOOP7op9",
        "outputId": "c8711b83-d523-411d-c2eb-f51b47cb6131"
      },
      "execution_count": null,
      "outputs": [
        {
          "output_type": "stream",
          "name": "stdout",
          "text": [
            "[[0.0 1.0 0.0 0.0 30.0 54000.0]\n",
            " [1.0 0.0 0.0 0.0 37.0 67000.0]]\n"
          ]
        }
      ]
    },
    {
      "cell_type": "code",
      "source": [
        "print(y_train)"
      ],
      "metadata": {
        "colab": {
          "base_uri": "https://localhost:8080/"
        },
        "id": "wgp61x6R7sIi",
        "outputId": "5e06b565-1971-4723-c573-7a238d5bb6fe"
      },
      "execution_count": null,
      "outputs": [
        {
          "output_type": "stream",
          "name": "stdout",
          "text": [
            "[0 1 0 0 1 1 0 1]\n"
          ]
        }
      ]
    },
    {
      "cell_type": "code",
      "source": [
        "print(y_test)"
      ],
      "metadata": {
        "colab": {
          "base_uri": "https://localhost:8080/"
        },
        "id": "YZ3n8SQU7xXi",
        "outputId": "b5275a10-e73c-473e-a4ec-c530a2534869"
      },
      "execution_count": null,
      "outputs": [
        {
          "output_type": "stream",
          "name": "stdout",
          "text": [
            "[0 1]\n"
          ]
        }
      ]
    },
    {
      "cell_type": "code",
      "source": [
        "# Corrected import statement:\n",
        "from sklearn.preprocessing import StandardScaler\n",
        "sc = StandardScaler()\n",
        "x_train[:, 3:] = sc.fit_transform(x_train[:, 3:])\n",
        "x_test[:, 3:] = sc.transform(x_test[:, 3:])"
      ],
      "metadata": {
        "id": "9xAXDqpi76BT"
      },
      "execution_count": null,
      "outputs": []
    },
    {
      "cell_type": "markdown",
      "source": [],
      "metadata": {
        "id": "PBYzGRpL8ayV"
      }
    },
    {
      "cell_type": "code",
      "source": [
        "print(x_train)"
      ],
      "metadata": {
        "colab": {
          "base_uri": "https://localhost:8080/"
        },
        "id": "U8RYhpK18Ypt",
        "outputId": "2587c38a-b41f-4003-eb7b-56aeb983de2b"
      },
      "execution_count": null,
      "outputs": [
        {
          "output_type": "stream",
          "name": "stdout",
          "text": [
            "[[0.0 0.0 0.0 1.7320508075688774 -0.22097527316805438 -1.0781259408412425]\n",
            " [0.0 1.0 0.0 -0.5773502691896258 -0.11995800543408718\n",
            "  -0.07013167641635372]\n",
            " [1.0 0.0 0.0 -0.5773502691896258 0.4861456009697181 0.633562432710455]\n",
            " [0.0 0.0 0.0 1.7320508075688774 -0.4230098086359898 -0.30786617274297867]\n",
            " [0.0 0.0 1.0 -0.5773502691896258 -2.0897947262464545 -1.420463615551582]\n",
            " [1.0 0.0 0.0 -0.5773502691896258 1.0922492073735235 1.232653363453549]\n",
            " [0.0 0.0 1.0 -0.5773502691896258 1.395301010575426 1.5749910381638885]\n",
            " [1.0 0.0 0.0 -0.5773502691896258 -0.11995800543408718\n",
            "  -0.5646194287757332]]\n"
          ]
        }
      ]
    },
    {
      "cell_type": "code",
      "source": [
        "print(x_test)"
      ],
      "metadata": {
        "colab": {
          "base_uri": "https://localhost:8080/"
        },
        "id": "dbXPcbgY8fY7",
        "outputId": "9ba87936-6f1e-49f0-a0c8-1100858dc608"
      },
      "execution_count": null,
      "outputs": [
        {
          "output_type": "stream",
          "name": "stdout",
          "text": [
            "[[0.0 1.0 0.0 -0.5773502691896258 -1.6352170214436004 -0.9069571034860727]\n",
            " [1.0 0.0 0.0 -0.5773502691896258 -0.5745357102369412 0.2056403393225306]]\n"
          ]
        }
      ]
    }
  ]
}